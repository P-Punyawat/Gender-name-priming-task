{
 "cells": [
  {
   "cell_type": "code",
   "execution_count": 3,
   "id": "4e36a01e",
   "metadata": {},
   "outputs": [],
   "source": [
    "import mne \n",
    "import numpy as np\n",
    "import os\n",
    "import pyxdf"
   ]
  },
  {
   "cell_type": "code",
   "execution_count": 77,
   "id": "7ee103ce",
   "metadata": {},
   "outputs": [],
   "source": [
    "raw_data_path = r'D:\\Priming_name\\Pilot02_cogwear\\sub-Pilot02\\ses-S001\\eeg\\sub-Pilot02_ses-S001_task-Default_run-001_eeg.xdf'\n",
    "streams, header = pyxdf.load_xdf(raw_data_path)\n"
   ]
  },
  {
   "cell_type": "code",
   "execution_count": 78,
   "id": "9106e098",
   "metadata": {},
   "outputs": [
    {
     "name": "stdout",
     "output_type": "stream",
     "text": [
      "Stream 0: PsychoPy_LSL, Markers, shape=(1598, 1)\n",
      "Stream 1: Pilot02_cogwear, EEG, shape=(162660, 8)\n"
     ]
    }
   ],
   "source": [
    "for i, s in enumerate(streams):\n",
    "    print(f\"Stream {i}: {s['info']['name'][0]}, {s['info']['type'][0]}, shape={s['time_series'].shape}\")"
   ]
  },
  {
   "cell_type": "code",
   "execution_count": 79,
   "id": "6a27982c",
   "metadata": {},
   "outputs": [
    {
     "name": "stdout",
     "output_type": "stream",
     "text": [
      "Channel names: ['EEG1', 'EEG2', 'EEG3', 'EEG4', 'EEG5', 'EEG6', 'EEG7', 'EEG8']\n"
     ]
    }
   ],
   "source": [
    "eeg_stream = streams[1]  # Pilot02_cogwear\n",
    "marker_stream = streams[0]  # PsychoPy_LSL\n",
    "\n",
    "# --- 3. Prepare EEG data\n",
    "data = eeg_stream['time_series'].T  # shape (n_channels, n_samples)\n",
    "sfreq = float(eeg_stream['info']['nominal_srate'][0])\n",
    "# --- Try to get channel names ---\n",
    "desc = eeg_stream['info']['desc'][0] if eeg_stream['info']['desc'] else None\n",
    "\n",
    "if desc and 'channels' in desc[0] and 'channel' in desc[0]['channels'][0]:\n",
    "    ch_names = [ch['label'][0] for ch in desc[0]['channels'][0]['channel']]\n",
    "else:\n",
    "    # If no channel labels in file, create generic ones\n",
    "    n_channels = data.shape[0]\n",
    "    ch_names = [f'EEG{i+1}' for i in range(n_channels)]\n",
    "print(f\"Channel names: {ch_names}\")"
   ]
  },
  {
   "cell_type": "code",
   "execution_count": 80,
   "id": "a945d8fa",
   "metadata": {},
   "outputs": [
    {
     "name": "stdout",
     "output_type": "stream",
     "text": [
      "Creating RawArray with float64 data, n_channels=8, n_times=162660\n",
      "    Range : 0 ... 162659 =      0.000 ...   650.636 secs\n",
      "Ready.\n"
     ]
    }
   ],
   "source": [
    "# --- Create MNE Raw object ---\n",
    "info = mne.create_info(ch_names=ch_names, sfreq=sfreq, ch_types='eeg')\n",
    "raw = mne.io.RawArray(data, info)"
   ]
  },
  {
   "cell_type": "code",
   "execution_count": 81,
   "id": "c4b957fe",
   "metadata": {},
   "outputs": [
    {
     "name": "stdout",
     "output_type": "stream",
     "text": [
      "First few events: [[ 9886     0    71]\n",
      " [ 9887     0    31]\n",
      " [ 9994     0     3]\n",
      " [10285     0    90]\n",
      " [10381     0    74]\n",
      " [10382     0    23]\n",
      " [10490     0    16]\n",
      " [10844     0    90]\n",
      " [10987     0    73]\n",
      " [10988     0    26]]\n"
     ]
    }
   ],
   "source": [
    "# Marker data\n",
    "marker_times = marker_stream['time_stamps']\n",
    "marker_values = [m[0] for m in marker_stream['time_series']]\n",
    "\n",
    "# Align marker timestamps to EEG\n",
    "start_time = eeg_stream['time_stamps'][0]\n",
    "event_samples = ((marker_times - start_time) * sfreq).astype(int)\n",
    "\n",
    "# Keep original trigger values\n",
    "events = np.array([[s, 0, val] for s, val in zip(event_samples, marker_values)])\n",
    "\n",
    "print(\"First few events:\", events[:10])\n",
    "\n"
   ]
  },
  {
   "cell_type": "code",
   "execution_count": 82,
   "id": "768d85e7",
   "metadata": {},
   "outputs": [
    {
     "name": "stdout",
     "output_type": "stream",
     "text": [
      "Creating RawArray with float64 data, n_channels=1, n_times=162660\n",
      "    Range : 0 ... 162659 =      0.000 ...   650.636 secs\n",
      "Ready.\n",
      "Overwriting existing file.\n",
      "Writing D:\\Priming_name\\Pilot02_cogwear\\sub-Pilot02\\ses-S001\\eeg\\sub-Pilot02_ses-S001_task-Default_run-001_eeg-raw.fif\n",
      "Overwriting existing file.\n",
      "Closing D:\\Priming_name\\Pilot02_cogwear\\sub-Pilot02\\ses-S001\\eeg\\sub-Pilot02_ses-S001_task-Default_run-001_eeg-raw.fif\n",
      "[done]\n"
     ]
    },
    {
     "data": {
      "text/plain": [
       "[WindowsPath('D:/Priming_name/Pilot02_cogwear/sub-Pilot02/ses-S001/eeg/sub-Pilot02_ses-S001_task-Default_run-001_eeg-raw.fif')]"
      ]
     },
     "execution_count": 82,
     "metadata": {},
     "output_type": "execute_result"
    }
   ],
   "source": [
    "n_times = raw.n_times\n",
    "stim_data = np.zeros((1, n_times))\n",
    "\n",
    "# Fill trigger channel with event codes\n",
    "for sample, _, event_id in events:\n",
    "    if sample < n_times:\n",
    "        stim_data[0, sample] = event_id\n",
    "\n",
    "# Create and add stim channel\n",
    "stim_info = mne.create_info(['STI 014'], sfreq=raw.info['sfreq'], ch_types=['stim'])\n",
    "stim_raw = mne.io.RawArray(stim_data, stim_info)\n",
    "\n",
    "raw.add_channels([stim_raw])\n",
    "\n",
    "# Map your active channels to the montage names\n",
    "raw.rename_channels({\n",
    "    'EEG1': 'AF8',\n",
    "    'EEG2': 'Fp2',\n",
    "    'EEG3': 'Fp1',\n",
    "    'EEG4': 'AF7'\n",
    "})\n",
    "\n",
    "raw.drop_channels(['EEG5','EEG6','EEG7','EEG8'])\n",
    "\n",
    "# Now save\n",
    "raw.save(raw_data_path.replace('.xdf', '-raw.fif'), overwrite=True)"
   ]
  },
  {
   "cell_type": "code",
   "execution_count": 83,
   "id": "6e0ada13",
   "metadata": {},
   "outputs": [
    {
     "name": "stdout",
     "output_type": "stream",
     "text": [
      "Filtering raw data in 1 contiguous segment\n",
      "Setting up band-pass filter from 1 - 40 Hz\n",
      "\n",
      "FIR filter parameters\n",
      "---------------------\n",
      "Designing a one-pass, zero-phase, non-causal bandpass filter:\n",
      "- Windowed time-domain design (firwin) method\n",
      "- Hamming window with 0.0194 passband ripple and 53 dB stopband attenuation\n",
      "- Lower passband edge: 1.00\n",
      "- Lower transition bandwidth: 1.00 Hz (-6 dB cutoff frequency: 0.50 Hz)\n",
      "- Upper passband edge: 40.00 Hz\n",
      "- Upper transition bandwidth: 10.00 Hz (-6 dB cutoff frequency: 45.00 Hz)\n",
      "- Filter length: 825 samples (3.300 s)\n",
      "\n"
     ]
    }
   ],
   "source": [
    "filt_raw = raw.filter(l_freq=1., h_freq=40.)"
   ]
  },
  {
   "cell_type": "code",
   "execution_count": 84,
   "id": "4703771e",
   "metadata": {},
   "outputs": [
    {
     "data": {
      "text/html": [
       "<script type=\"text/javascript\">\n",
       "    // must be `var` (not `const`) because this can get embedded multiple times on a page\n",
       "var toggleVisibility = (className) => {\n",
       "\n",
       "    const elements = document.querySelectorAll(`.${className}`);\n",
       "\n",
       "    elements.forEach(element => {\n",
       "        if (element.classList.contains(\"mne-repr-section-header\")) {\n",
       "            return  // Don't collapse the section header row\n",
       "        }\n",
       "        element.classList.toggle(\"mne-repr-collapsed\");\n",
       "    });\n",
       "\n",
       "    // trigger caret to rotate\n",
       "    var sel = `.mne-repr-section-header.${className} > th.mne-repr-section-toggle > button`;\n",
       "    const button = document.querySelector(sel);\n",
       "    button.classList.toggle(\"collapsed\");\n",
       "\n",
       "    // adjust tooltip\n",
       "    sel = `tr.mne-repr-section-header.${className}`;\n",
       "    const secHeadRow = document.querySelector(sel);\n",
       "    secHeadRow.classList.toggle(\"collapsed\");\n",
       "    secHeadRow.title = secHeadRow.title === \"Hide section\" ? \"Show section\" : \"Hide section\";\n",
       "}\n",
       "</script>\n",
       "\n",
       "<style type=\"text/css\">\n",
       "    /*\n",
       "Styles in this section apply both to the sphinx-built website docs and to notebooks\n",
       "rendered in an IDE or in Jupyter. In our web docs, styles here are complemented by\n",
       "doc/_static/styles.css and other CSS files (e.g. from the sphinx theme, sphinx-gallery,\n",
       "or bootstrap). In IDEs/Jupyter, those style files are unavailable, so only the rules in\n",
       "this file apply (plus whatever default styling the IDE applies).\n",
       "*/\n",
       ".mne-repr-table {\n",
       "    display: inline;  /* prevent using full container width */\n",
       "}\n",
       ".mne-repr-table tr.mne-repr-section-header > th {\n",
       "    padding-top: 1rem;\n",
       "    text-align: left;\n",
       "    vertical-align: middle;\n",
       "}\n",
       ".mne-repr-section-toggle > button {\n",
       "    all: unset;\n",
       "    display: block;\n",
       "    height: 1rem;\n",
       "    width: 1rem;\n",
       "}\n",
       ".mne-repr-section-toggle > button > svg {\n",
       "    height: 60%;\n",
       "}\n",
       "\n",
       "/* transition (rotation) effects on the collapser button */\n",
       ".mne-repr-section-toggle > button.collapsed > svg {\n",
       "    transition: 0.1s ease-out;\n",
       "    transform: rotate(-90deg);\n",
       "}\n",
       ".mne-repr-section-toggle > button:not(.collapsed) > svg {\n",
       "    transition: 0.1s ease-out;\n",
       "    transform: rotate(0deg);\n",
       "}\n",
       "\n",
       "/* hide collapsed table rows */\n",
       ".mne-repr-collapsed {\n",
       "    display: none;\n",
       "}\n",
       "\n",
       "\n",
       "@layer {\n",
       "    /*\n",
       "    Selectors in a `@layer` will always be lower-precedence than selectors outside the\n",
       "    layer. So even though e.g. `div.output_html` is present in the sphinx-rendered\n",
       "    website docs, the styles here won't take effect there as long as some other rule\n",
       "    somewhere in the page's CSS targets the same element.\n",
       "\n",
       "    In IDEs or Jupyter notebooks, though, the CSS files from the sphinx theme,\n",
       "    sphinx-gallery, and bootstrap are unavailable, so these styles will apply.\n",
       "\n",
       "    Notes:\n",
       "\n",
       "    - the selector `.accordion-body` is for MNE Reports\n",
       "    - the selector `.output_html` is for VSCode's notebook interface\n",
       "    - the selector `.jp-RenderedHTML` is for Jupyter notebook\n",
       "    - variables starting with `--theme-` are VSCode-specific.\n",
       "    - variables starting with `--jp-` are Jupyter styles, *some of which* are also\n",
       "      available in VSCode. Here we try the `--theme-` variable first, then fall back to\n",
       "      the `--jp-` ones.\n",
       "    */\n",
       "    .mne-repr-table {\n",
       "        --mne-toggle-color: var(--theme-foreground, var(--jp-ui-font-color1));\n",
       "        --mne-button-bg-color: var(--theme-button-background, var(--jp-info-color0, var(--jp-content-link-color)));\n",
       "        --mne-button-fg-color: var(--theme-button-foreground, var(--jp-ui-inverse-font-color0, var(--jp-editor-background)));\n",
       "        --mne-button-hover-bg-color: var(--theme-button-hover-background, var(--jp-info-color1));\n",
       "        --mne-button-radius: var(--jp-border-radius, 0.25rem);\n",
       "    }\n",
       "    /* chevron position/alignment; in VSCode it looks ok without adjusting */\n",
       "    .accordion-body .mne-repr-section-toggle > button,\n",
       "    .jp-RenderedHTML .mne-repr-section-toggle > button {\n",
       "        padding: 0 0 45% 25% !important;\n",
       "    }\n",
       "    /* chevron color; MNE Report doesn't have light/dark mode */\n",
       "    div.output_html .mne-repr-section-toggle > button > svg > path,\n",
       "    .jp-RenderedHTML .mne-repr-section-toggle > button > svg > path {\n",
       "        fill: var(--mne-toggle-color);\n",
       "    }\n",
       "    .accordion-body .mne-ch-names-btn,\n",
       "    div.output_html .mne-ch-names-btn,\n",
       "    .jp-RenderedHTML .mne-ch-names-btn {\n",
       "        -webkit-border-radius: var(--mne-button-radius);\n",
       "        -moz-border-radius: var(--mne-button-radius);\n",
       "        border-radius: var(--mne-button-radius);\n",
       "        border: none;\n",
       "        background-image: none;\n",
       "        background-color: var(--mne-button-bg-color);\n",
       "        color: var(--mne-button-fg-color);\n",
       "        font-size: inherit;\n",
       "        min-width: 1.5rem;\n",
       "        padding: 0.25rem;\n",
       "        text-align: center;\n",
       "        text-decoration: none;\n",
       "    }\n",
       "    .accordion-body .mne-ch-names-btn:hover,\n",
       "    div.output_html .mne.ch-names-btn:hover,\n",
       "    .jp-RenderedHTML .mne-ch-names-btn:hover {\n",
       "        background-color: var(--mne-button-hover-bg-color);\n",
       "        text-decoration: underline;\n",
       "    }\n",
       "    .accordion-body .mne-ch-names-btn:focus-visible,\n",
       "    div.output_html .mne-ch-names-btn:focus-visible,\n",
       "    .jp-RenderedHTML .mne-ch-names-btn:focus-visible {\n",
       "        outline: 0.1875rem solid var(--mne-button-bg-color) !important;\n",
       "        outline-offset: 0.1875rem !important;\n",
       "    }\n",
       "}\n",
       "</style>\n",
       "\n",
       "\n",
       "\n",
       "<table class=\"table mne-repr-table\">\n",
       "    \n",
       "\n",
       "\n",
       "\n",
       "\n",
       "\n",
       "\n",
       "\n",
       "<tr class=\"mne-repr-section-header general-fbf58869-b941-4900-ac50-c41c61a6c5ef\"\n",
       "     title=\"Hide section\" \n",
       "    onclick=\"toggleVisibility('general-fbf58869-b941-4900-ac50-c41c61a6c5ef')\">\n",
       "    <th class=\"mne-repr-section-toggle\">\n",
       "        <button >\n",
       "            <svg xmlns=\"http://www.w3.org/2000/svg\" viewBox=\"0 0 512 512\"><!--!Font Awesome Free 6.6.0 by @fontawesome - https://fontawesome.com License - https://fontawesome.com/license/free Copyright 2024 Fonticons, Inc.--><path d=\"M233.4 406.6c12.5 12.5 32.8 12.5 45.3 0l192-192c12.5-12.5 12.5-32.8 0-45.3s-32.8-12.5-45.3 0L256 338.7 86.6 169.4c-12.5-12.5-32.8-12.5-45.3 0s-12.5 32.8 0 45.3l192 192z\"/></svg>\n",
       "        </button>\n",
       "    </th>\n",
       "    <th colspan=\"2\">\n",
       "        <strong>General</strong>\n",
       "    </th>\n",
       "</tr>\n",
       "\n",
       "\n",
       "<tr class=\"repr-element general-fbf58869-b941-4900-ac50-c41c61a6c5ef \">\n",
       "    <td class=\"mne-repr-section-toggle\"></td>\n",
       "    <td>MNE object type</td>\n",
       "    <td>RawArray</td>\n",
       "</tr>\n",
       "<tr class=\"repr-element general-fbf58869-b941-4900-ac50-c41c61a6c5ef \">\n",
       "    <td class=\"mne-repr-section-toggle\"></td>\n",
       "    <td>Measurement date</td>\n",
       "    \n",
       "    <td>Unknown</td>\n",
       "    \n",
       "</tr>\n",
       "<tr class=\"repr-element general-fbf58869-b941-4900-ac50-c41c61a6c5ef \">\n",
       "    <td class=\"mne-repr-section-toggle\"></td>\n",
       "    <td>Participant</td>\n",
       "    \n",
       "    <td>Unknown</td>\n",
       "    \n",
       "</tr>\n",
       "<tr class=\"repr-element general-fbf58869-b941-4900-ac50-c41c61a6c5ef \">\n",
       "    <td class=\"mne-repr-section-toggle\"></td>\n",
       "    <td>Experimenter</td>\n",
       "    \n",
       "    <td>Unknown</td>\n",
       "    \n",
       "</tr>\n",
       "    \n",
       "\n",
       "\n",
       "\n",
       "\n",
       "\n",
       "\n",
       "\n",
       "<tr class=\"mne-repr-section-header acquisition-8b24571b-4c9d-481f-b066-0b00c2c5fab3\"\n",
       "     title=\"Hide section\" \n",
       "    onclick=\"toggleVisibility('acquisition-8b24571b-4c9d-481f-b066-0b00c2c5fab3')\">\n",
       "    <th class=\"mne-repr-section-toggle\">\n",
       "        <button >\n",
       "            <svg xmlns=\"http://www.w3.org/2000/svg\" viewBox=\"0 0 512 512\"><!--!Font Awesome Free 6.6.0 by @fontawesome - https://fontawesome.com License - https://fontawesome.com/license/free Copyright 2024 Fonticons, Inc.--><path d=\"M233.4 406.6c12.5 12.5 32.8 12.5 45.3 0l192-192c12.5-12.5 12.5-32.8 0-45.3s-32.8-12.5-45.3 0L256 338.7 86.6 169.4c-12.5-12.5-32.8-12.5-45.3 0s-12.5 32.8 0 45.3l192 192z\"/></svg>\n",
       "        </button>\n",
       "    </th>\n",
       "    <th colspan=\"2\">\n",
       "        <strong>Acquisition</strong>\n",
       "    </th>\n",
       "</tr>\n",
       "\n",
       "\n",
       "<tr class=\"repr-element acquisition-8b24571b-4c9d-481f-b066-0b00c2c5fab3 \">\n",
       "    <td class=\"mne-repr-section-toggle\"></td>\n",
       "    <td>Duration</td>\n",
       "    <td>00:10:51 (HH:MM:SS)</td>\n",
       "</tr>\n",
       "\n",
       "\n",
       "\n",
       "\n",
       "\n",
       "\n",
       "\n",
       "\n",
       "<tr class=\"repr-element acquisition-8b24571b-4c9d-481f-b066-0b00c2c5fab3 \">\n",
       "    <td class=\"mne-repr-section-toggle\"></td>\n",
       "    <td>Sampling frequency</td>\n",
       "    <td>250.00 Hz</td>\n",
       "</tr>\n",
       "\n",
       "\n",
       "<tr class=\"repr-element acquisition-8b24571b-4c9d-481f-b066-0b00c2c5fab3 \">\n",
       "    <td class=\"mne-repr-section-toggle\"></td>\n",
       "    <td>Time points</td>\n",
       "    <td>162,660</td>\n",
       "</tr>\n",
       "\n",
       "\n",
       "    \n",
       "\n",
       "\n",
       "\n",
       "\n",
       "\n",
       "\n",
       "\n",
       "<tr class=\"mne-repr-section-header channels-6f5cc6ea-d14c-4749-8f66-7161be5b8fe9\"\n",
       "     title=\"Hide section\" \n",
       "    onclick=\"toggleVisibility('channels-6f5cc6ea-d14c-4749-8f66-7161be5b8fe9')\">\n",
       "    <th class=\"mne-repr-section-toggle\">\n",
       "        <button >\n",
       "            <svg xmlns=\"http://www.w3.org/2000/svg\" viewBox=\"0 0 512 512\"><!--!Font Awesome Free 6.6.0 by @fontawesome - https://fontawesome.com License - https://fontawesome.com/license/free Copyright 2024 Fonticons, Inc.--><path d=\"M233.4 406.6c12.5 12.5 32.8 12.5 45.3 0l192-192c12.5-12.5 12.5-32.8 0-45.3s-32.8-12.5-45.3 0L256 338.7 86.6 169.4c-12.5-12.5-32.8-12.5-45.3 0s-12.5 32.8 0 45.3l192 192z\"/></svg>\n",
       "        </button>\n",
       "    </th>\n",
       "    <th colspan=\"2\">\n",
       "        <strong>Channels</strong>\n",
       "    </th>\n",
       "</tr>\n",
       "\n",
       "\n",
       "    \n",
       "<tr class=\"repr-element channels-6f5cc6ea-d14c-4749-8f66-7161be5b8fe9 \">\n",
       "    <td class=\"mne-repr-section-toggle\"></td>\n",
       "    <td>EEG</td>\n",
       "    <td>\n",
       "        <button class=\"mne-ch-names-btn sd-sphinx-override sd-btn sd-btn-info sd-text-wrap sd-shadow-sm\" onclick=\"alert('Good EEG:\\n\\nAF8, Fp2, Fp1, AF7')\" title=\"(Click to open in popup)&#13;&#13;AF8, Fp2, Fp1, AF7\">\n",
       "            4\n",
       "        </button>\n",
       "\n",
       "        \n",
       "    </td>\n",
       "</tr>\n",
       "\n",
       "    \n",
       "<tr class=\"repr-element channels-6f5cc6ea-d14c-4749-8f66-7161be5b8fe9 \">\n",
       "    <td class=\"mne-repr-section-toggle\"></td>\n",
       "    <td>Stimulus</td>\n",
       "    <td>\n",
       "        <button class=\"mne-ch-names-btn sd-sphinx-override sd-btn sd-btn-info sd-text-wrap sd-shadow-sm\" onclick=\"alert('Good Stimulus:\\n\\nSTI&nbsp;014')\" title=\"(Click to open in popup)&#13;&#13;STI&nbsp;014\">\n",
       "            1\n",
       "        </button>\n",
       "\n",
       "        \n",
       "    </td>\n",
       "</tr>\n",
       "\n",
       "\n",
       "<tr class=\"repr-element channels-6f5cc6ea-d14c-4749-8f66-7161be5b8fe9 \">\n",
       "    <td class=\"mne-repr-section-toggle\"></td>\n",
       "    <td>Head & sensor digitization</td>\n",
       "    \n",
       "    <td>7 points</td>\n",
       "    \n",
       "</tr>\n",
       "    \n",
       "\n",
       "\n",
       "\n",
       "\n",
       "\n",
       "\n",
       "\n",
       "<tr class=\"mne-repr-section-header filters-b715b23b-b020-4106-afff-0ffe8f2607df\"\n",
       "     title=\"Hide section\" \n",
       "    onclick=\"toggleVisibility('filters-b715b23b-b020-4106-afff-0ffe8f2607df')\">\n",
       "    <th class=\"mne-repr-section-toggle\">\n",
       "        <button >\n",
       "            <svg xmlns=\"http://www.w3.org/2000/svg\" viewBox=\"0 0 512 512\"><!--!Font Awesome Free 6.6.0 by @fontawesome - https://fontawesome.com License - https://fontawesome.com/license/free Copyright 2024 Fonticons, Inc.--><path d=\"M233.4 406.6c12.5 12.5 32.8 12.5 45.3 0l192-192c12.5-12.5 12.5-32.8 0-45.3s-32.8-12.5-45.3 0L256 338.7 86.6 169.4c-12.5-12.5-32.8-12.5-45.3 0s-12.5 32.8 0 45.3l192 192z\"/></svg>\n",
       "        </button>\n",
       "    </th>\n",
       "    <th colspan=\"2\">\n",
       "        <strong>Filters</strong>\n",
       "    </th>\n",
       "</tr>\n",
       "\n",
       "\n",
       "<tr class=\"repr-element filters-b715b23b-b020-4106-afff-0ffe8f2607df \">\n",
       "    <td class=\"mne-repr-section-toggle\"></td>\n",
       "    <td>Highpass</td>\n",
       "    <td>1.00 Hz</td>\n",
       "</tr>\n",
       "\n",
       "\n",
       "<tr class=\"repr-element filters-b715b23b-b020-4106-afff-0ffe8f2607df \">\n",
       "    <td class=\"mne-repr-section-toggle\"></td>\n",
       "    <td>Lowpass</td>\n",
       "    <td>40.00 Hz</td>\n",
       "</tr>\n",
       "\n",
       "\n",
       "</table>"
      ],
      "text/plain": [
       "<RawArray | 5 x 162660 (650.6 s), ~6.2 MiB, data loaded>"
      ]
     },
     "execution_count": 84,
     "metadata": {},
     "output_type": "execute_result"
    }
   ],
   "source": [
    "montage_dict = {\n",
    "    'AF8': [0.35, 0.12, 0.0],  # Right front\n",
    "    'Fp2': [0.2, 0.1, 0.0],    # Right frontal pole\n",
    "    'Fp1': [-0.2, 0.1, 0.0],   # Left frontal pole\n",
    "    'AF7': [-0.35, 0.12, 0.0], # Left front\n",
    "}\n",
    "\n",
    "# Create the montage\n",
    "montage = mne.channels.make_dig_montage(ch_pos=montage_dict, coord_frame='head')\n",
    "\n",
    "# Assign the montage to your Raw object\n",
    "filt_raw.set_montage(montage, match_case=False, on_missing='ignore')"
   ]
  },
  {
   "cell_type": "code",
   "execution_count": 85,
   "id": "300271a8",
   "metadata": {},
   "outputs": [
    {
     "name": "stdout",
     "output_type": "stream",
     "text": [
      "['AF8', 'Fp2', 'Fp1', 'AF7', 'STI 014']\n"
     ]
    }
   ],
   "source": [
    "print(filt_raw.ch_names)\n"
   ]
  },
  {
   "cell_type": "code",
   "execution_count": 61,
   "id": "2eeee7d4",
   "metadata": {},
   "outputs": [
    {
     "name": "stderr",
     "output_type": "stream",
     "text": [
      "C:\\Users\\LSA\\AppData\\Local\\Temp\\ipykernel_23196\\1680504022.py:1: RuntimeWarning: This filename (D:\\Priming_name\\Pilot02_cogwear\\sub-Pilot02\\ses-S001\\eeg\\sub-Pilot02_ses-S001_task-Default_run-001_eeg-raw_face_onset_copy-events.fif) does not conform to MNE naming conventions. All events files should end with .eve, -eve.fif, -eve.fif.gz, -eve.lst, -eve.txt, _eve.fif, _eve.fif.gz, _eve.lst, _eve.txt or -annot.fif\n",
      "  events = mne.read_events(r'D:\\Priming_name\\Pilot02_cogwear\\sub-Pilot02\\ses-S001\\eeg\\sub-Pilot02_ses-S001_task-Default_run-001_eeg-raw_face_onset_copy-events.fif')\n"
     ]
    }
   ],
   "source": [
    "events = mne.read_events(r'D:\\Priming_name\\Pilot02_cogwear\\sub-Pilot02\\ses-S001\\eeg\\sub-Pilot02_ses-S001_task-Default_run-001_eeg-raw_face_onset_copy-events.fif')\n"
   ]
  },
  {
   "cell_type": "code",
   "execution_count": 64,
   "id": "c7d97f79",
   "metadata": {},
   "outputs": [
    {
     "name": "stdout",
     "output_type": "stream",
     "text": [
      "Not setting metadata\n",
      "100 matching events found\n",
      "Applying baseline correction (mode: mean)\n",
      "0 projection items activated\n",
      "Using data from preloaded Raw for 100 events and 301 original time points ...\n",
      "0 bad epochs dropped\n"
     ]
    }
   ],
   "source": [
    "tmin = -0.2  # 200 ms before event\n",
    "tmax = 1.0   # 800 ms after event\n",
    "baseline = (-0.2, 0)\n",
    "\n",
    "epochs = mne.Epochs(filt_raw, events, 171, tmin, tmax,\n",
    "                    baseline=baseline, preload=True)"
   ]
  },
  {
   "cell_type": "code",
   "execution_count": 65,
   "id": "bb5c19c2",
   "metadata": {},
   "outputs": [
    {
     "name": "stdout",
     "output_type": "stream",
     "text": [
      "Fitting ICA to data using 4 channels (please be patient, this may take a while)\n",
      "Selecting by number: 4 components\n",
      "Fitting ICA took 0.1s.\n"
     ]
    },
    {
     "name": "stderr",
     "output_type": "stream",
     "text": [
      "C:\\Users\\LSA\\AppData\\Local\\Temp\\ipykernel_23196\\468961516.py:5: RuntimeWarning: The epochs you passed to ICA.fit() were baseline-corrected. However, we suggest to fit ICA only on data that has been high-pass filtered, but NOT baseline-corrected.\n",
      "  ica.fit(epochs)\n"
     ]
    },
    {
     "data": {
      "text/html": [
       "<table class=\"table mne-repr-table\">\n",
       "    <tr>\n",
       "        <th>Method</th>\n",
       "        <td>picard</td>\n",
       "    </tr>\n",
       "    <tr>\n",
       "        <th>Fit parameters</th>\n",
       "        <td>max_iter=500<br /></td>\n",
       "    </tr>\n",
       "    <tr>\n",
       "        <th>Fit</th>\n",
       "        <td>11 iterations on epochs (30100 samples)</td>\n",
       "    </tr>\n",
       "    \n",
       "    <tr>\n",
       "        <th>ICA components</th>\n",
       "        <td>4</td>\n",
       "    </tr>\n",
       "    <tr>\n",
       "        <th>Available PCA components</th>\n",
       "        <td>4</td>\n",
       "    </tr>\n",
       "    <tr>\n",
       "        <th>Channel types</th>\n",
       "        <td>eeg</td>\n",
       "    </tr>\n",
       "    <tr>\n",
       "        <th>ICA components marked for exclusion</th>\n",
       "        <td>&mdash;</td>\n",
       "    </tr>\n",
       "    \n",
       "</table>"
      ],
      "text/plain": [
       "<ICA | epochs decomposition, method: picard (fit in 11 iterations on 30100 samples), 4 ICA components (4 PCA components available), channel types: eeg, no sources marked for exclusion>"
      ]
     },
     "execution_count": 65,
     "metadata": {},
     "output_type": "execute_result"
    }
   ],
   "source": [
    "from mne.preprocessing import ICA, corrmap, create_ecg_epochs, create_eog_epochs\n",
    "ica = ICA(n_components=4,method='picard', max_iter=\"auto\", random_state=97)\n",
    "# filt_raw.drop_channels([\"EXG1\", \"EXG2\"])\n",
    "# filt_raw.drop_channels(['EEG5', 'EEG6', 'EEG7', 'EEG8'])\n",
    "ica.fit(epochs)"
   ]
  },
  {
   "cell_type": "code",
   "execution_count": 66,
   "id": "864c6754",
   "metadata": {},
   "outputs": [
    {
     "name": "stdout",
     "output_type": "stream",
     "text": [
      "Not setting metadata\n",
      "100 matching events found\n",
      "No baseline correction applied\n",
      "0 projection items activated\n"
     ]
    },
    {
     "data": {
      "text/plain": [
       "<mne_qt_browser._pg_figure.MNEQtBrowser at 0x228e2560680>"
      ]
     },
     "execution_count": 66,
     "metadata": {},
     "output_type": "execute_result"
    }
   ],
   "source": [
    "ica.plot_sources(epochs, show_scrollbars=True)  # plot component signals\n",
    "# ica.plot_properties(filt_raw, picks=[0, 1, 2, 3])  # detailed plots for components\n"
   ]
  },
  {
   "cell_type": "code",
   "execution_count": 67,
   "id": "7f620c0a",
   "metadata": {},
   "outputs": [
    {
     "name": "stdout",
     "output_type": "stream",
     "text": [
      "Writing ICA solution to D:\\Priming_name\\Pilot02_cogwear\\sub-Pilot02\\ses-S001\\eeg\\sub-Pilot02_ses-S001_task-Default_run-001_eeg-ica.fif...\n"
     ]
    },
    {
     "data": {
      "text/html": [
       "<table class=\"table mne-repr-table\">\n",
       "    <tr>\n",
       "        <th>Method</th>\n",
       "        <td>picard</td>\n",
       "    </tr>\n",
       "    <tr>\n",
       "        <th>Fit parameters</th>\n",
       "        <td>max_iter=500<br /></td>\n",
       "    </tr>\n",
       "    <tr>\n",
       "        <th>Fit</th>\n",
       "        <td>11 iterations on epochs (30100 samples)</td>\n",
       "    </tr>\n",
       "    \n",
       "    <tr>\n",
       "        <th>ICA components</th>\n",
       "        <td>4</td>\n",
       "    </tr>\n",
       "    <tr>\n",
       "        <th>Available PCA components</th>\n",
       "        <td>4</td>\n",
       "    </tr>\n",
       "    <tr>\n",
       "        <th>Channel types</th>\n",
       "        <td>eeg</td>\n",
       "    </tr>\n",
       "    <tr>\n",
       "        <th>ICA components marked for exclusion</th>\n",
       "        <td>ICA001<br />ICA002</td>\n",
       "    </tr>\n",
       "    \n",
       "</table>"
      ],
      "text/plain": [
       "<ICA | epochs decomposition, method: picard (fit in 11 iterations on 30100 samples), 4 ICA components (4 PCA components available), channel types: eeg, 2 sources marked for exclusion>"
      ]
     },
     "execution_count": 67,
     "metadata": {},
     "output_type": "execute_result"
    }
   ],
   "source": [
    "folder = os.path.dirname(raw_data_path)\n",
    "basename = os.path.splitext(os.path.basename(raw_data_path))[0]\n",
    "\n",
    "ica_path = os.path.join(folder, f'{basename}-ica.fif')\n",
    "ica.save(ica_path, overwrite=True)"
   ]
  }
 ],
 "metadata": {
  "kernelspec": {
   "display_name": "mne",
   "language": "python",
   "name": "python3"
  },
  "language_info": {
   "codemirror_mode": {
    "name": "ipython",
    "version": 3
   },
   "file_extension": ".py",
   "mimetype": "text/x-python",
   "name": "python",
   "nbconvert_exporter": "python",
   "pygments_lexer": "ipython3",
   "version": "3.13.7"
  }
 },
 "nbformat": 4,
 "nbformat_minor": 5
}
