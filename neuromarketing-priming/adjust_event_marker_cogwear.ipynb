{
 "cells": [
  {
   "cell_type": "code",
   "execution_count": 1,
   "id": "42a59dee",
   "metadata": {},
   "outputs": [],
   "source": [
    "import mne \n",
    "import numpy as np\n",
    "import os"
   ]
  },
  {
   "cell_type": "code",
   "execution_count": 4,
   "id": "8f1bfd11",
   "metadata": {},
   "outputs": [
    {
     "name": "stdout",
     "output_type": "stream",
     "text": [
      "Opening raw data file D:\\Priming_name\\Pilot02_cogwear\\sub-Pilot02\\ses-S001\\eeg\\sub-Pilot02_ses-S001_task-Default_run-001_eeg-raw.fif...\n",
      "    Range : 0 ... 162659 =      0.000 ...   650.636 secs\n",
      "Ready.\n",
      "Reading 0 ... 162659  =      0.000 ...   650.636 secs...\n"
     ]
    }
   ],
   "source": [
    "raw_data_path = r'D:\\Priming_name\\Pilot02_cogwear\\sub-Pilot02\\ses-S001\\eeg\\sub-Pilot02_ses-S001_task-Default_run-001_eeg-raw.fif'\n",
    "raw = mne.io.read_raw_fif(raw_data_path, preload=True)"
   ]
  },
  {
   "cell_type": "code",
   "execution_count": 5,
   "id": "49c1a570",
   "metadata": {},
   "outputs": [
    {
     "name": "stdout",
     "output_type": "stream",
     "text": [
      "Finding events on: STI 014\n",
      "1421 events found on stim channel STI 014\n",
      "Event IDs: [ 1  2  3  4  5  6  7  8  9 10 11 12 13 14 15 16 17 18 19 20 21 22 23 24\n",
      " 25 26 27 28 29 30 31 32 33 34 35 36 37 38 39 40 71 72 73 74 90]\n"
     ]
    }
   ],
   "source": [
    "events = mne.find_events(raw, stim_channel='STI 014')\n"
   ]
  },
  {
   "cell_type": "code",
   "execution_count": 6,
   "id": "72b8de63",
   "metadata": {},
   "outputs": [
    {
     "name": "stdout",
     "output_type": "stream",
     "text": [
      "\n",
      "Code 71:\n",
      "  nearest face = 3, delay = 432.0 ms\n",
      "  nearest face = 13, delay = 488.0 ms\n",
      "  nearest face = 17, delay = 484.0 ms\n",
      "  nearest face = 11, delay = 496.0 ms\n",
      "  nearest face = 9, delay = 380.0 ms\n",
      "\n",
      "Code 72:\n",
      "  nearest face = 13, delay = 540.0 ms\n",
      "  nearest face = 19, delay = 480.0 ms\n",
      "  nearest face = 1, delay = 384.0 ms\n",
      "  nearest face = 19, delay = 496.0 ms\n",
      "  nearest face = 13, delay = 424.0 ms\n",
      "\n",
      "Code 73:\n",
      "  nearest face = 10, delay = 480.0 ms\n",
      "  nearest face = 16, delay = 496.0 ms\n",
      "  nearest face = 14, delay = 436.0 ms\n",
      "  nearest face = 10, delay = 524.0 ms\n",
      "  nearest face = 14, delay = 504.0 ms\n",
      "\n",
      "Code 74:\n",
      "  nearest face = 16, delay = 436.0 ms\n",
      "  nearest face = 10, delay = 464.0 ms\n",
      "  nearest face = 14, delay = 488.0 ms\n",
      "  nearest face = 12, delay = 472.0 ms\n",
      "  nearest face = 2, delay = 512.0 ms\n"
     ]
    }
   ],
   "source": [
    "sfreq = raw.info['sfreq']\n",
    "prim_codes = [71, 72, 73, 74]\n",
    "face_codes = list(range(1, 21))\n",
    "\n",
    "for code in prim_codes:\n",
    "    prim_samples = events[events[:, 2] == code, 0]\n",
    "    print(f\"\\nCode {code}:\")\n",
    "    for s in prim_samples[:5]:  # just look at first 5 trials per condition\n",
    "        # find nearest face event (any 1–20)\n",
    "        diffs = events[np.isin(events[:, 2], face_codes), 0] - s\n",
    "        nearest_idx = np.argmin(np.abs(diffs))\n",
    "        delay_ms = diffs[nearest_idx] / sfreq * 1000\n",
    "        print(f\"  nearest face = {events[np.isin(events[:, 2], face_codes)][nearest_idx, 2]}, delay = {delay_ms:.1f} ms\")\n"
   ]
  },
  {
   "cell_type": "code",
   "execution_count": 7,
   "id": "b521a262",
   "metadata": {},
   "outputs": [],
   "source": [
    "new_trigger_offset = 100  # 71->171, 72->172, etc.\n",
    "new_events = []\n",
    "\n",
    "for prim_code in [71, 72, 73, 74]:\n",
    "    prim_samples = events[events[:,2] == prim_code, 0]\n",
    "    face_samples = events[np.isin(events[:,2], range(1,21)), 0]\n",
    "    face_codes = events[np.isin(events[:,2], range(1,21)), 2]\n",
    "\n",
    "    for s in prim_samples:\n",
    "        # compute delays to all face triggers\n",
    "        diffs = (face_samples - s).astype(float)  # <- convert to float\n",
    "        diffs[diffs < 0] = np.inf  # ignore faces before the prime\n",
    "        if np.all(diffs == np.inf):\n",
    "            continue  # no future face found\n",
    "        nearest_idx = np.argmin(diffs)\n",
    "        face_sample = face_samples[nearest_idx]\n",
    "        new_code = prim_code + new_trigger_offset\n",
    "        new_events.append([face_sample, 0, new_code])\n"
   ]
  },
  {
   "cell_type": "code",
   "execution_count": 8,
   "id": "05489a16",
   "metadata": {},
   "outputs": [],
   "source": [
    "out_suffix = '_face_onset_copy'"
   ]
  },
  {
   "cell_type": "code",
   "execution_count": 9,
   "id": "c5af3ce9",
   "metadata": {},
   "outputs": [
    {
     "name": "stdout",
     "output_type": "stream",
     "text": [
      "Saved new events to: D:\\Priming_name\\Pilot02_cogwear\\sub-Pilot02\\ses-S001\\eeg\\sub-Pilot02_ses-S001_task-Default_run-001_eeg-raw_face_onset_copy-events.fif\n"
     ]
    },
    {
     "name": "stderr",
     "output_type": "stream",
     "text": [
      "C:\\Users\\LSA\\AppData\\Local\\Temp\\ipykernel_24504\\373600613.py:8: RuntimeWarning: This filename (D:\\Priming_name\\Pilot02_cogwear\\sub-Pilot02\\ses-S001\\eeg\\sub-Pilot02_ses-S001_task-Default_run-001_eeg-raw_face_onset_copy-events.fif) does not conform to MNE naming conventions. All events files should end with .eve, -eve.fif, -eve.fif.gz, -eve.lst, -eve.txt, _eve.fif, _eve.fif.gz, _eve.lst or _eve.txt\n",
      "  mne.write_events(out_events_fname, all_events)\n"
     ]
    }
   ],
   "source": [
    "all_events = np.vstack([events, np.array(new_events, int)])\n",
    "all_events = all_events[np.argsort(all_events[:, 0])]\n",
    "\n",
    "# save events\n",
    "out_dir = os.path.dirname(raw_data_path)\n",
    "base = os.path.splitext(os.path.basename(raw_data_path))[0]\n",
    "out_events_fname = os.path.join(out_dir, base + out_suffix + '-events.fif')\n",
    "mne.write_events(out_events_fname, all_events)\n",
    "print(f\"Saved new events to: {out_events_fname}\")"
   ]
  }
 ],
 "metadata": {
  "kernelspec": {
   "display_name": "mne",
   "language": "python",
   "name": "python3"
  },
  "language_info": {
   "codemirror_mode": {
    "name": "ipython",
    "version": 3
   },
   "file_extension": ".py",
   "mimetype": "text/x-python",
   "name": "python",
   "nbconvert_exporter": "python",
   "pygments_lexer": "ipython3",
   "version": "3.13.7"
  }
 },
 "nbformat": 4,
 "nbformat_minor": 5
}
