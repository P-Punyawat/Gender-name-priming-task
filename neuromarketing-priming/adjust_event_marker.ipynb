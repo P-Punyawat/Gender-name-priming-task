{
 "cells": [
  {
   "cell_type": "code",
   "execution_count": 1,
   "id": "42a59dee",
   "metadata": {},
   "outputs": [],
   "source": [
    "import mne \n",
    "import numpy as np\n",
    "import os"
   ]
  },
  {
   "cell_type": "code",
   "execution_count": 11,
   "id": "8f1bfd11",
   "metadata": {},
   "outputs": [
    {
     "name": "stdout",
     "output_type": "stream",
     "text": [
      "Opening raw data file D:\\Priming_name\\Pilot02_cogwear\\sub-Pilot02\\ses-S001\\eeg\\sub-Pilot02_ses-S001_task-Default_run-001_eeg-raw.fif...\n",
      "    Range : 0 ... 162659 =      0.000 ...   650.636 secs\n",
      "Ready.\n",
      "Reading 0 ... 162659  =      0.000 ...   650.636 secs...\n"
     ]
    }
   ],
   "source": [
    "raw_data_path = r'D:\\Priming_name\\Pilot02_cogwear\\sub-Pilot02\\ses-S001\\eeg\\sub-Pilot02_ses-S001_task-Default_run-001_eeg-raw.fif'\n",
    "raw = mne.io.read_raw_fif(raw_data_path, preload=True)"
   ]
  },
  {
   "cell_type": "code",
   "execution_count": 9,
   "id": "49c1a570",
   "metadata": {},
   "outputs": [
    {
     "ename": "ValueError",
     "evalue": "Missing channels from ch_names required by include:\n['Status']",
     "output_type": "error",
     "traceback": [
      "\u001b[31m---------------------------------------------------------------------------\u001b[39m",
      "\u001b[31mValueError\u001b[39m                                Traceback (most recent call last)",
      "\u001b[36mCell\u001b[39m\u001b[36m \u001b[39m\u001b[32mIn[9]\u001b[39m\u001b[32m, line 1\u001b[39m\n\u001b[32m----> \u001b[39m\u001b[32m1\u001b[39m events = \u001b[43mmne\u001b[49m\u001b[43m.\u001b[49m\u001b[43mfind_events\u001b[49m\u001b[43m(\u001b[49m\u001b[43mraw\u001b[49m\u001b[43m,\u001b[49m\u001b[43m \u001b[49m\u001b[43mstim_channel\u001b[49m\u001b[43m=\u001b[49m\u001b[33;43m'\u001b[39;49m\u001b[33;43mStatus\u001b[39;49m\u001b[33;43m'\u001b[39;49m\u001b[43m,\u001b[49m\u001b[43m \u001b[49m\u001b[43mshortest_event\u001b[49m\u001b[43m=\u001b[49m\u001b[32;43m1\u001b[39;49m\u001b[43m)\u001b[49m\n\u001b[32m      2\u001b[39m \u001b[38;5;28mprint\u001b[39m(np.unique(events[:, \u001b[32m2\u001b[39m]))\n",
      "\u001b[36mFile \u001b[39m\u001b[32m<decorator-gen-141>:12\u001b[39m, in \u001b[36mfind_events\u001b[39m\u001b[34m(raw, stim_channel, output, consecutive, min_duration, shortest_event, mask, uint_cast, mask_type, initial_event, verbose)\u001b[39m\n",
      "\u001b[36mFile \u001b[39m\u001b[32mc:\\Users\\LSA\\anaconda3\\envs\\mne\\Lib\\site-packages\\mne\\event.py:767\u001b[39m, in \u001b[36mfind_events\u001b[39m\u001b[34m(raw, stim_channel, output, consecutive, min_duration, shortest_event, mask, uint_cast, mask_type, initial_event, verbose)\u001b[39m\n\u001b[32m    764\u001b[39m     \u001b[38;5;28;01melse\u001b[39;00m:\n\u001b[32m    765\u001b[39m         \u001b[38;5;28;01mraise\u001b[39;00m\n\u001b[32m--> \u001b[39m\u001b[32m767\u001b[39m picks = \u001b[43mpick_channels\u001b[49m\u001b[43m(\u001b[49m\u001b[43mraw\u001b[49m\u001b[43m.\u001b[49m\u001b[43minfo\u001b[49m\u001b[43m[\u001b[49m\u001b[33;43m\"\u001b[39;49m\u001b[33;43mch_names\u001b[39;49m\u001b[33;43m\"\u001b[39;49m\u001b[43m]\u001b[49m\u001b[43m,\u001b[49m\u001b[43m \u001b[49m\u001b[43minclude\u001b[49m\u001b[43m=\u001b[49m\u001b[43mstim_channel\u001b[49m\u001b[43m)\u001b[49m\n\u001b[32m    768\u001b[39m \u001b[38;5;28;01mif\u001b[39;00m \u001b[38;5;28mlen\u001b[39m(picks) == \u001b[32m0\u001b[39m:\n\u001b[32m    769\u001b[39m     \u001b[38;5;28;01mraise\u001b[39;00m \u001b[38;5;167;01mValueError\u001b[39;00m(\u001b[33m\"\u001b[39m\u001b[33mNo stim channel found to extract event triggers.\u001b[39m\u001b[33m\"\u001b[39m)\n",
      "\u001b[36mFile \u001b[39m\u001b[32m<decorator-gen-3>:12\u001b[39m, in \u001b[36mpick_channels\u001b[39m\u001b[34m(ch_names, include, exclude, ordered, verbose)\u001b[39m\n",
      "\u001b[36mFile \u001b[39m\u001b[32mc:\\Users\\LSA\\anaconda3\\envs\\mne\\Lib\\site-packages\\mne\\_fiff\\pick.py:306\u001b[39m, in \u001b[36mpick_channels\u001b[39m\u001b[34m(ch_names, include, exclude, ordered, verbose)\u001b[39m\n\u001b[32m    304\u001b[39m         missing.append(name)\n\u001b[32m    305\u001b[39m \u001b[38;5;28;01mif\u001b[39;00m \u001b[38;5;28mlen\u001b[39m(missing) \u001b[38;5;129;01mand\u001b[39;00m ordered:\n\u001b[32m--> \u001b[39m\u001b[32m306\u001b[39m     \u001b[38;5;28;01mraise\u001b[39;00m \u001b[38;5;167;01mValueError\u001b[39;00m(\n\u001b[32m    307\u001b[39m         \u001b[33mf\u001b[39m\u001b[33m\"\u001b[39m\u001b[33mMissing channels from ch_names required by include:\u001b[39m\u001b[38;5;130;01m\\n\u001b[39;00m\u001b[38;5;132;01m{\u001b[39;00mmissing\u001b[38;5;132;01m}\u001b[39;00m\u001b[33m\"\u001b[39m\n\u001b[32m    308\u001b[39m     )\n\u001b[32m    309\u001b[39m \u001b[38;5;28;01mif\u001b[39;00m \u001b[38;5;129;01mnot\u001b[39;00m ordered:\n\u001b[32m    310\u001b[39m     sel = np.unique(sel)\n",
      "\u001b[31mValueError\u001b[39m: Missing channels from ch_names required by include:\n['Status']"
     ]
    }
   ],
   "source": [
    "events = mne.find_events(raw, stim_channel='Status', shortest_event=1)\n",
    "print(np.unique(events[:, 2]))"
   ]
  },
  {
   "cell_type": "code",
   "execution_count": 4,
   "id": "72b8de63",
   "metadata": {},
   "outputs": [
    {
     "name": "stdout",
     "output_type": "stream",
     "text": [
      "\n",
      "Code 71:\n",
      "  nearest face = 19, delay = 476.6 ms\n",
      "  nearest face = 9, delay = 408.2 ms\n",
      "  nearest face = 15, delay = 464.8 ms\n",
      "  nearest face = 7, delay = 556.6 ms\n",
      "  nearest face = 3, delay = 484.4 ms\n",
      "\n",
      "Code 72:\n",
      "  nearest face = 19, delay = 535.2 ms\n",
      "  nearest face = 13, delay = 482.4 ms\n",
      "  nearest face = 1, delay = 443.4 ms\n",
      "  nearest face = 1, delay = 392.6 ms\n",
      "  nearest face = 19, delay = 447.3 ms\n",
      "\n",
      "Code 73:\n",
      "  nearest face = 8, delay = 552.7 ms\n",
      "  nearest face = 12, delay = 416.0 ms\n",
      "  nearest face = 10, delay = 535.2 ms\n",
      "  nearest face = 14, delay = 515.6 ms\n",
      "  nearest face = 6, delay = 396.5 ms\n",
      "\n",
      "Code 74:\n",
      "  nearest face = 16, delay = 492.2 ms\n",
      "  nearest face = 14, delay = 505.9 ms\n",
      "  nearest face = 16, delay = 521.5 ms\n",
      "  nearest face = 8, delay = 447.3 ms\n",
      "  nearest face = 18, delay = 396.5 ms\n"
     ]
    }
   ],
   "source": [
    "sfreq = raw.info['sfreq']\n",
    "prim_codes = [71, 72, 73, 74]\n",
    "face_codes = list(range(1, 21))\n",
    "\n",
    "for code in prim_codes:\n",
    "    prim_samples = events[events[:, 2] == code, 0]\n",
    "    print(f\"\\nCode {code}:\")\n",
    "    for s in prim_samples[:5]:  # just look at first 5 trials per condition\n",
    "        # find nearest face event (any 1–20)\n",
    "        diffs = events[np.isin(events[:, 2], face_codes), 0] - s\n",
    "        nearest_idx = np.argmin(np.abs(diffs))\n",
    "        delay_ms = diffs[nearest_idx] / sfreq * 1000\n",
    "        print(f\"  nearest face = {events[np.isin(events[:, 2], face_codes)][nearest_idx, 2]}, delay = {delay_ms:.1f} ms\")\n"
   ]
  },
  {
   "cell_type": "code",
   "execution_count": 5,
   "id": "b521a262",
   "metadata": {},
   "outputs": [],
   "source": [
    "new_trigger_offset = 100  # 71->171, 72->172, etc.\n",
    "new_events = []\n",
    "\n",
    "for prim_code in [71, 72, 73, 74]:\n",
    "    prim_samples = events[events[:,2] == prim_code, 0]\n",
    "    face_samples = events[np.isin(events[:,2], range(1,21)), 0]\n",
    "    face_codes = events[np.isin(events[:,2], range(1,21)), 2]\n",
    "\n",
    "    for s in prim_samples:\n",
    "        # compute delays to all face triggers\n",
    "        diffs = (face_samples - s).astype(float)  # <- convert to float\n",
    "        diffs[diffs < 0] = np.inf  # ignore faces before the prime\n",
    "        if np.all(diffs == np.inf):\n",
    "            continue  # no future face found\n",
    "        nearest_idx = np.argmin(diffs)\n",
    "        face_sample = face_samples[nearest_idx]\n",
    "        new_code = prim_code + new_trigger_offset\n",
    "        new_events.append([face_sample, 0, new_code])\n"
   ]
  },
  {
   "cell_type": "code",
   "execution_count": 6,
   "id": "05489a16",
   "metadata": {},
   "outputs": [],
   "source": [
    "out_suffix = '_face_onset_copy'"
   ]
  },
  {
   "cell_type": "code",
   "execution_count": 7,
   "id": "c5af3ce9",
   "metadata": {},
   "outputs": [
    {
     "name": "stdout",
     "output_type": "stream",
     "text": [
      "Saved new events to: D:\\Priming_name\\Biosemi\\2025-10-07-pilot02-block03_face_onset_copy-events.fif\n"
     ]
    },
    {
     "name": "stderr",
     "output_type": "stream",
     "text": [
      "C:\\Users\\LSA\\AppData\\Local\\Temp\\ipykernel_16908\\373600613.py:8: RuntimeWarning: This filename (D:\\Priming_name\\Biosemi\\2025-10-07-pilot02-block03_face_onset_copy-events.fif) does not conform to MNE naming conventions. All events files should end with .eve, -eve.fif, -eve.fif.gz, -eve.lst, -eve.txt, _eve.fif, _eve.fif.gz, _eve.lst or _eve.txt\n",
      "  mne.write_events(out_events_fname, all_events)\n"
     ]
    }
   ],
   "source": [
    "all_events = np.vstack([events, np.array(new_events, int)])\n",
    "all_events = all_events[np.argsort(all_events[:, 0])]\n",
    "\n",
    "# save events\n",
    "out_dir = os.path.dirname(raw_data_path)\n",
    "base = os.path.splitext(os.path.basename(raw_data_path))[0]\n",
    "out_events_fname = os.path.join(out_dir, base + out_suffix + '-events.fif')\n",
    "mne.write_events(out_events_fname, all_events)\n",
    "print(f\"Saved new events to: {out_events_fname}\")"
   ]
  }
 ],
 "metadata": {
  "kernelspec": {
   "display_name": "mne",
   "language": "python",
   "name": "python3"
  },
  "language_info": {
   "codemirror_mode": {
    "name": "ipython",
    "version": 3
   },
   "file_extension": ".py",
   "mimetype": "text/x-python",
   "name": "python",
   "nbconvert_exporter": "python",
   "pygments_lexer": "ipython3",
   "version": "3.13.7"
  }
 },
 "nbformat": 4,
 "nbformat_minor": 5
}
